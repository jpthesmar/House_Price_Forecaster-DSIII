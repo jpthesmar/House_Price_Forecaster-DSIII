{
 "cells": [
  {
   "cell_type": "markdown",
   "id": "7a04b503-598c-49da-9a8c-1254f4fbe787",
   "metadata": {},
   "source": [
    "# Housing Datasets:\n",
    "\n",
    "## Gov DataSets: (Free to Use)\n",
    "\n",
    "The United States Census Bureau Offers very specific data on real estate:\n",
    "Example (2021 New York City Housing and Vancancy Survey Micro Data):\n",
    "[Link to example](https://www.census.gov/data/datasets/2021/demo/nychvs/microdata.html)\n",
    "\n",
    "\n",
    "More Government Housing DataSets:\n",
    "[Link to Data](https://www.census.gov/topics/housing/data/datasets.html)"
   ]
  },
  {
   "cell_type": "markdown",
   "id": "96f1ebaf-7fed-4ebd-bb52-67721a7c14c8",
   "metadata": {},
   "source": [
    "## Zillow DataSets: (Free to Use/Download CSV Files)\n",
    "\n",
    "[Link to zillow dataset](https://www.zillow.com/research/data/)\n",
    "\n",
    "**Home Values**: Zillow Home Value INdex (ZHVI)\n",
    "1. Typical home values in different percentiles\n",
    "2. Availble for \n",
    "    - single gamily residences\n",
    "    - condo/co op homes\n",
    "    - homes with 1,2,3,4, and 5+ bedrooms\n",
    "\n",
    "**Home Vlaue Forecasts:** Zillow Home Value Forecast (ZHVF)\n",
    "1. Month ahead, quarter-ahead, and year ahead forecasts\n",
    "2. For all homes (SFR, Confo, Co-op)\n",
    "3. Metro and US\n",
    "\n",
    "**Rentals**: Zillow Observed Rent Index (ZORI)\n",
    "1. Market rate rents\n",
    "2. Categories\n",
    "   - all homes\n",
    "   - single family\n",
    "   - multi family\n",
    "3. Metro and US\n",
    "\n",
    "**Rental Forecast**: Zillow Observed Rent Forecast (ZORF)\n",
    "1. Forecast of ZORI for a month, quarter, and year ahead\n",
    "2. U.S\n",
    "\n",
    "**For Sale Listings**: \n",
    "1. For sale inventory (count of active listings each month)\n",
    "2. New listings (every month)\n",
    "3. Newly pending listings (listings pending status)\n",
    "4. Median list price\n",
    "5. Metro US\n",
    "\n",
    "**Sales**: \n",
    "1. Sales Count nowcast\n",
    "2. Sale price (median & mean)\n",
    "3. Total transaction value\n",
    "4. Sale to list ratio (sale price vs list price)\n",
    "5. Metro/US\n",
    "\n",
    "**Market Heat Index**:\n",
    "1. Supply demand in a market\n",
    "2. Single family + condo homes\n",
    "3. Metro / US\n",
    "\n",
    "**New Construction**: \n",
    "1. Number of sold new Constrcution Homes\n",
    "2. New construction median sale price\n",
    "3. Median slate price per sqft\n",
    "4. Metro/US"
   ]
  },
  {
   "cell_type": "markdown",
   "id": "065b04c2-9a52-4a4b-8784-722c52971346",
   "metadata": {},
   "source": [
    "## Zillow API: (via Bridge Interactive and MLS Integrations)\n",
    "\n",
    "- API is part of Zillow’s developer platform and allows access to more granular data, such as property-level details and comprehensive real estate records.\n",
    "- Through the Bridge Interactive platform, Zillow connects to Multiple Listing Service (MLS) datasets, which are extensive, property-level databases maintained by real estate professionals.\n",
    "- This data is much richer and includes information like listings, sales history, taxes, photos, and agent-provided details.\n",
    "- APIs requires developer accounts, authentication, and sometimes payment for higher usage tiers"
   ]
  },
  {
   "cell_type": "markdown",
   "id": "afd530ae-0f39-416f-b204-80e3ba083418",
   "metadata": {},
   "source": [
    "## Kaggle Housing DataSets:\n",
    "\n",
    "Key Words: House Prices USA, Real Estate USA, Housing DataSets USA, Zillow Data \n",
    "\n",
    "Links to potentially interesting data sets:\n",
    "USA Real Estate Dataset (300k+ entries): [Link to resource](https://www.kaggle.com/discussions/general/333339) <br>\n",
    "**Attributes:**\n",
    "- status\n",
    "- price\n",
    "- bed\n",
    "- bath\n",
    "- acre_lot\n",
    "- full_address\n",
    "- street\n",
    "- city\n",
    "- state\n",
    "- zip_code\n",
    "- house_size\n",
    "- sold_date\n"
   ]
  },
  {
   "cell_type": "code",
   "execution_count": null,
   "id": "295413d6-f6b3-44e4-b586-2bc21bc17141",
   "metadata": {},
   "outputs": [],
   "source": []
  }
 ],
 "metadata": {
  "kernelspec": {
   "display_name": "Python 3 (ipykernel)",
   "language": "python",
   "name": "python3"
  },
  "language_info": {
   "codemirror_mode": {
    "name": "ipython",
    "version": 3
   },
   "file_extension": ".py",
   "mimetype": "text/x-python",
   "name": "python",
   "nbconvert_exporter": "python",
   "pygments_lexer": "ipython3",
   "version": "3.10.12"
  }
 },
 "nbformat": 4,
 "nbformat_minor": 5
}
